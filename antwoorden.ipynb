{
 "cells": [
  {
   "cell_type": "markdown",
   "metadata": {},
   "source": [
    "Opdracht 1 van ```Opdracht.ipynb```."
   ]
  },
  {
   "cell_type": "code",
   "execution_count": null,
   "metadata": {},
   "outputs": [],
   "source": [
    "import requests\n",
    "\n",
    "naam1 = input(\"Naam 1: \")\n",
    "naam2 = input(\"Naam 2: \")\n",
    "\n",
    "basisUrl = \"https://love-calculator.p.rapidapi.com/getPercentage\"\n",
    "\n",
    "query = {\"sname\":naam2,\"fname\":naam1}\n",
    "\n",
    "headers = {\n",
    "\t\"X-RapidAPI-Key\": \"** API KEY HIER **\",\n",
    "\t\"X-RapidAPI-Host\": \"love-calculator.p.rapidapi.com\"\n",
    "}\n",
    "\n",
    "response = requests.get(basisUrl, headers=headers, params=query)\n",
    "\n",
    "# print(response.json())\n",
    "\n",
    "response_data = response.json()\n",
    "\n",
    "print(f\"Naam 1: {response_data['fname']}\")\n",
    "print(f\"Naam 2: {response_data['sname']}\")\n",
    "print(f\"Procent: {response_data['percentage']}\")"
   ]
  }
 ],
 "metadata": {
  "kernelspec": {
   "display_name": "Python 3",
   "language": "python",
   "name": "python3"
  },
  "language_info": {
   "codemirror_mode": {
    "name": "ipython",
    "version": 3
   },
   "file_extension": ".py",
   "mimetype": "text/x-python",
   "name": "python",
   "nbconvert_exporter": "python",
   "pygments_lexer": "ipython3",
   "version": "3.10.13"
  }
 },
 "nbformat": 4,
 "nbformat_minor": 2
}
