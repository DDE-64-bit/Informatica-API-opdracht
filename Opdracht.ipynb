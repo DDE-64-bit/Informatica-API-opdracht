{
 "cells": [
  {
   "cell_type": "markdown",
   "metadata": {},
   "source": [
    "## **Hoe kan je api's gebruiken**\n",
    "\n",
    "Hieronder vind je een stap voor stap uitleg voor hoe je een api kan gebruiken."
   ]
  },
  {
   "cell_type": "markdown",
   "metadata": {},
   "source": [
    "### **API's**\n",
    "\n",
    "Voor de meeste api's heb je een sleutel en een api adres. Voor deze opdracht halen wij die van [rapidapi](https://rapidapi.com/collection/list-of-free-apis). Als je naar die link gaat vind je een lijst met 23 gratis api's.\n",
    "\n",
    "**LET OP: De api's zijn in de basis gratis, zorg wel dat je weet wat de limiet is voordat je moet gaan betalen.**\n",
    "\n",
    "In dit voorbeeld gaan wij de [Love Calculator](https://rapidapi.com/ajith/api/love-calculator/) gebruiken.\n",
    "\n",
    "Voordat je kan beginnen moet je een paar dingen doen.\n",
    "- Maak een account aan.\n",
    "- Ga naar de [Love Calculator](https://rapidapi.com/ajith/api/love-calculator/)\n",
    "- Scroll naar beneden bij ```code snippets```.\n",
    "- Zoek dan iets wat op deze regel lijkt ```''X-RapidAPI-Key': '**********mshc28ea09170e58efp1afa22jsn86**********',```.\n",
    "- Kopieer dan dit ```**********mshc28ea09170e58efp1afa22jsn86**********```."
   ]
  },
  {
   "cell_type": "markdown",
   "metadata": {},
   "source": [
    "Je gebruikt ```requests``` om de informatie op te halen."
   ]
  },
  {
   "cell_type": "code",
   "execution_count": null,
   "metadata": {},
   "outputs": [],
   "source": [
    "import requests"
   ]
  },
  {
   "cell_type": "markdown",
   "metadata": {},
   "source": [
    "Maak een variabele ```basisUrl``` aan, daarin geef je aan waar de api gegevens vandaan moet halen."
   ]
  },
  {
   "cell_type": "code",
   "execution_count": null,
   "metadata": {},
   "outputs": [],
   "source": [
    "basisUrl = \"https://love-calculator.p.rapidapi.com/getPercentage\""
   ]
  },
  {
   "cell_type": "markdown",
   "metadata": {},
   "source": [
    "Nu maak je een query aan. Welke informatie je in de query zet verschild per api, je kunt zien welke query's de api gebruikt op [rapidapi](https://rapidapi.com/ajith/api/love-calculator/) onder ```Required Parameters```."
   ]
  },
  {
   "cell_type": "code",
   "execution_count": null,
   "metadata": {},
   "outputs": [],
   "source": [
    "query = {\"sname\":\"Alice\",\"fname\":\"Bob\"}"
   ]
  },
  {
   "cell_type": "markdown",
   "metadata": {},
   "source": [
    "Nu voeg je een header toe aan de webrequest. \n",
    "\n",
    "**LET OP: Voor de ```X-RapidAPI-Key``` vul je de key van rapidapi in, anders werkt de api niet.**"
   ]
  },
  {
   "cell_type": "code",
   "execution_count": null,
   "metadata": {},
   "outputs": [],
   "source": [
    "headers = {\n",
    "\t\"X-RapidAPI-Key\": \"**********mshc28ea09170e58efp1afa22jsn86**********\",\n",
    "\t\"X-RapidAPI-Host\": \"love-calculator.p.rapidapi.com\"\n",
    "}"
   ]
  },
  {
   "cell_type": "markdown",
   "metadata": {},
   "source": [
    "Als laatste stuur je een webrequest met alle gegevens en laat je de uitvoer zien."
   ]
  },
  {
   "cell_type": "code",
   "execution_count": null,
   "metadata": {},
   "outputs": [],
   "source": [
    "response = requests.get(basisUrl, headers=headers, params=query)\n",
    "\n",
    "print(response.json())"
   ]
  },
  {
   "cell_type": "markdown",
   "metadata": {},
   "source": [
    "Als het goed is krijg je nu dit: ```{'fname': 'Bob', 'sname': 'Alice', 'percentage': '46', 'result': 'Can choose someone better.'}``` als uitvoer.\n",
    "\n",
    "Dat is nog niet mooi dus we kunnen dit ook anders doen, zoals hieronder."
   ]
  },
  {
   "cell_type": "code",
   "execution_count": null,
   "metadata": {},
   "outputs": [],
   "source": [
    "response_data = response.json()\n",
    "\n",
    "print(f\"Naam 1: {response_data['fname']}\")\n",
    "print(f\"Naam 2: {response_data['sname']}\")\n",
    "print(f\"Procent: {response_data['percentage']}\")"
   ]
  },
  {
   "cell_type": "markdown",
   "metadata": {},
   "source": [
    "Hieronder staat de hele code. Pas het programma zo aan dat het blijft werken zoals nu, maar dat je zelf de namen kan in typen.\n",
    "\n",
    "**LET OP: Voeg nog wel jouw api sleutel toe aan dit programma.**"
   ]
  },
  {
   "cell_type": "code",
   "execution_count": null,
   "metadata": {},
   "outputs": [],
   "source": [
    "import requests\n",
    "\n",
    "basisUrl = \"https://love-calculator.p.rapidapi.com/getPercentage\"\n",
    "\n",
    "query = {\"sname\":\"Alice\",\"fname\":\"Bob\"}\n",
    "\n",
    "headers = {\n",
    "\t\"X-RapidAPI-Key\": \"**********mshc28ea09170e58efp1afa22jsn86**********\",\n",
    "\t\"X-RapidAPI-Host\": \"love-calculator.p.rapidapi.com\"\n",
    "}\n",
    "\n",
    "response = requests.get(basisUrl, headers=headers, params=query)\n",
    "\n",
    "# print(response.json())\n",
    "\n",
    "response_data = response.json()\n",
    "Þ\n",
    "print(f\"Naam 1: {response_data['fname']}\")\n",
    "print(f\"Naam 2: {response_data['sname']}\")\n",
    "print(f\"Procent: {response_data['percentage']}\")"
   ]
  },
  {
   "cell_type": "markdown",
   "metadata": {},
   "source": [
    "### URL Shortener\n",
    "\n",
    "Soms heb je een kortere url nodig. Daarom gaan jullie nu een api gebruiken"
   ]
  },
  {
   "cell_type": "code",
   "execution_count": 15,
   "metadata": {},
   "outputs": [
    {
     "name": "stdout",
     "output_type": "stream",
     "text": [
      "{'success': True, 'data': {'id': '0y68', 'url': 'https://ulvis.net/0y68', 'full': 'https://google.com/'}}\n"
     ]
    }
   ],
   "source": [
    "import requests\n",
    "\n",
    "basisUrl = \"https://ulvis.net/API/write/get\"\n",
    "\n",
    "query = {\"url\":\"https://google.com/\"}\n",
    "\n",
    "headers = {}\n",
    "\n",
    "response = requests.get(basisUrl, headers=headers, params=query)\n",
    "\n",
    "print(response.json())\n",
    "\n",
    "responseData = response.json()\n",
    "\n",
    "#print(f\"Oude URL: {responseData[\"data\"]}\")\n",
    "#print(f\"Verkorte URL: {responseData[\"url\"]}\")"
   ]
  }
 ],
 "metadata": {
  "kernelspec": {
   "display_name": "Python 3",
   "language": "python",
   "name": "python3"
  },
  "language_info": {
   "codemirror_mode": {
    "name": "ipython",
    "version": 3
   },
   "file_extension": ".py",
   "mimetype": "text/x-python",
   "name": "python",
   "nbconvert_exporter": "python",
   "pygments_lexer": "ipython3",
   "version": "3.10.13"
  }
 },
 "nbformat": 4,
 "nbformat_minor": 2
}
